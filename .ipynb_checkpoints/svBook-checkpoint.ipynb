{
 "cells": [
  {
   "cell_type": "markdown",
   "id": "advisory-subject",
   "metadata": {
    "kernel": "Bash"
   },
   "source": [
    "## SV Calling \n",
    "-----"
   ]
  },
  {
   "cell_type": "code",
   "execution_count": 1,
   "id": "representative-comparative",
   "metadata": {
    "kernel": "Bash"
   },
   "outputs": [
    {
     "name": "stdout",
     "output_type": "stream",
     "text": [
      "\n"
     ]
    }
   ],
   "source": [
    "##local\n",
    "projectD=/home/sarah/WGS3          ##path to project folder \n",
    "cd $projectD\n",
    "mkdir testSV                       ##name of SV folder\n",
    "svFolder=testSV                    ##variable for name"
   ]
  },
  {
   "cell_type": "code",
   "execution_count": null,
   "id": "elder-tiffany",
   "metadata": {
    "kernel": "Bash"
   },
   "outputs": [],
   "source": [
    "svFolder= path/to/sv/foldertestSV            \n",
    "cd $svFolder            \n",
    "chmod u+x runScript.sh\n",
    "refs=$projectD/refs  ##replace refs with reference folder name \n",
    "bams=$projectD/bams  ##replace bams with bam folder name\n",
    "reference=$refs/refSeqName  ##replace refSeqName with name of reference file inside of refs folder \n",
    "insertSize = 250            ##input estimated insert size based on sequence data \n",
    "\n",
    "./runScript.sh -d $mydata -b $bams -r $reference -i 250"
   ]
  },
  {
   "cell_type": "code",
   "execution_count": null,
   "id": "frozen-journalist",
   "metadata": {
    "kernel": "Bash"
   },
   "outputs": [],
   "source": [
    "##converting delly from bcf to vcf \n",
    "cd $projectD/$svFolder/delly\n",
    "for file in *.bcf ;\n",
    "do\n",
    "out=${file%.bcf}.vcf\n",
    "bcftools view -Ov -o $out $file\n",
    "done\n",
    "\n",
    "##annotating gridss output\n",
    "chmod u+x $projectD/$svFolder/structurial_annotation.R \n",
    "cd $projectD/$svFolder/gridss\n",
    "for file in *.vcf ;\n",
    "do\n",
    "outVcf=${file%.vcf}.ann.vcf\n",
    "outBed=${file%.vcf}.bed\n",
    "Rscript $projectD/$svFolder/structurial_annotation.R $file $outVcf $outBed\n",
    "done\n",
    "\n",
    "#annotating lumpy output\n",
    "cd $projectD/$svFolder/lumpy\n",
    "for file in *.vcf ;\n",
    "do\n",
    "outVcf=${file%.vcf}.ann.vcf\n",
    "outBed=${file%.vcf}.bed\n",
    "Rscript $projectD/$svFolder/structurial_annotation.R $file $outVcf $outBed\n",
    "done"
   ]
  },
  {
   "cell_type": "code",
   "execution_count": null,
   "id": "damaged-effects",
   "metadata": {
    "kernel": "Bash"
   },
   "outputs": [],
   "source": [
    "#run reformat code for each sample\n",
    "for b in $projectD/$svFolder/stats/*.stats\n",
    "do\n",
    "tmp=${b##*/}\n",
    "sample=${tmp%.sorted.stats}\n",
    "python3 $projectD/$svFolder/reformat_merge.py $projectD/$svFolder $sample\n",
    "done"
   ]
  },
  {
   "cell_type": "code",
   "execution_count": null,
   "id": "attractive-demonstration",
   "metadata": {
    "kernel": "Bash"
   },
   "outputs": [],
   "source": [
    "numSamples=20                   ## replace 20 with number of samples \n",
    "python3 $projectD/$svFolder/overlapSamples.py $projectD/$svFolder/mergeSV $numSamples"
   ]
  },
  {
   "cell_type": "code",
   "execution_count": null,
   "id": "welsh-walnut",
   "metadata": {
    "kernel": "Bash"
   },
   "outputs": [],
   "source": [
    "cd $svFolder\n",
    "mkdir -p svImages \n",
    "bedtools igv -slop 10 -path svImages -i $projectD/$svFolder/mergeSV/noShareSV.bed > $projectD/$svFolder/svImages/picScript.sh"
   ]
  },
  {
   "cell_type": "code",
   "execution_count": null,
   "id": "professional-massachusetts",
   "metadata": {
    "kernel": "Bash"
   },
   "outputs": [],
   "source": [
    "### TODO generate images into IGV make session files "
   ]
  },
  {
   "cell_type": "code",
   "execution_count": null,
   "id": "entertaining-detection",
   "metadata": {
    "kernel": "Bash"
   },
   "outputs": [],
   "source": [
    "cd $svFolder/svImages\n",
    "for photo in *.png ; do convert $photo -rotate -90 $photo ; done"
   ]
  }
 ],
 "metadata": {
  "kernelspec": {
   "display_name": "SoS",
   "language": "sos",
   "name": "sos"
  },
  "language_info": {
   "codemirror_mode": "sos",
   "file_extension": ".sos",
   "mimetype": "text/x-sos",
   "name": "sos",
   "nbconvert_exporter": "sos_notebook.converter.SoS_Exporter",
   "pygments_lexer": "sos"
  },
  "sos": {
   "kernels": [
    [
     "Bash",
     "calysto_bash",
     "Bash",
     "#E6EEFF",
     ""
    ],
    [
     "python3",
     "python3",
     "python",
     "",
     ""
    ]
   ],
   "panel": {
    "displayed": true,
    "height": 0
   },
   "version": "0.20.1"
  }
 },
 "nbformat": 4,
 "nbformat_minor": 5
}
