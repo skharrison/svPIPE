{
 "cells": [
  {
   "cell_type": "markdown",
   "id": "generous-kennedy",
   "metadata": {
    "kernel": "SoS"
   },
   "source": [
    "## Trim raw reads using trimmomatic \n",
    "-------\n"
   ]
  },
  {
   "cell_type": "code",
   "execution_count": null,
   "id": "bridal-comparative",
   "metadata": {
    "kernel": "Bash"
   },
   "outputs": [],
   "source": [
    "cd /path/to/raw/reads\n",
    "\n",
    "for R1 in *R1*\n",
    "do\n",
    "   R2=${R1//R1.fastq.gz/R2.fastq.gz}\n",
    "   R1paired=${R1//.fastq.gz/_paired.fastq.gz}\n",
    "   R1unpaired=${R1//.fastq.gz/_unpaired.fastq.gz}\n",
    "   R2paired=${R2//.fastq.gz/_paired.fastq.gz}\n",
    "   R2unpaired=${R2//.fastq.gz/_unpaired.fastq.gz} \\\n",
    "   java -jar trimmomatic-0.39.jar PE $R1 $R2 $R1paired $R1unpaired $R2paired $R2unpaired \\\n",
    "   ILLUMINACLIP:TruSeq3-PE.fa:2:30:10 LEADING:5 TRAILING:5 SLIDINGWINDOW:4:15 MINLEN:100\n",
    "done"
   ]
  },
  {
   "cell_type": "markdown",
   "id": "played-surveillance",
   "metadata": {
    "kernel": "Bash"
   },
   "source": [
    "## RUN FASTQC #TODOOOOOO"
   ]
  },
  {
   "cell_type": "markdown",
   "id": "careful-instrument",
   "metadata": {
    "kernel": "Bash"
   },
   "source": [
    "## Assembly with SPADES \n",
    "-----"
   ]
  },
  {
   "cell_type": "code",
   "execution_count": null,
   "id": "saved-modern",
   "metadata": {
    "kernel": "Bash"
   },
   "outputs": [],
   "source": [
    "for file1 in /path/to/trimmed/data/directory/*R1*fastq\n",
    "do \n",
    "file2=${file1/R1/R2}\n",
    "out=${file1%%_R1.fastq}_output\n",
    "spades.py -k 21,33,55,77 -c --only-assembler -1 $file1 -2 $file2 -o $out\n",
    "done"
   ]
  },
  {
   "cell_type": "markdown",
   "id": "rubber-angel",
   "metadata": {
    "kernel": "Bash"
   },
   "source": [
    "## Ref Alignment \n",
    "------"
   ]
  },
  {
   "cell_type": "code",
   "execution_count": null,
   "id": "settled-passage",
   "metadata": {
    "kernel": "Bash"
   },
   "outputs": [],
   "source": [
    "##John  Stuff"
   ]
  },
  {
   "cell_type": "markdown",
   "id": "advisory-subject",
   "metadata": {
    "kernel": "Bash"
   },
   "source": [
    "## SV Calling \n",
    "-----"
   ]
  },
  {
   "cell_type": "code",
   "execution_count": 1,
   "id": "representative-comparative",
   "metadata": {
    "kernel": "Bash"
   },
   "outputs": [
    {
     "name": "stdout",
     "output_type": "stream",
     "text": [
      "\n"
     ]
    }
   ],
   "source": [
    "##local\n",
    "projectD=/home/sarah/WGS3\n",
    "cd $projectD\n",
    "svFolder=testSV"
   ]
  },
  {
   "cell_type": "code",
   "execution_count": null,
   "id": "descending-highland",
   "metadata": {
    "kernel": "Bash"
   },
   "outputs": [],
   "source": [
    "sftp sharrison@mutation.uncc.edu\n",
    "#from within sftp\n",
    "svFolder=testSV\n",
    "mkdir $svFolder\n",
    "cd $svFolder\n",
    "put -r bams\n",
    "put -r refs\n",
    "put -r scripts"
   ]
  },
  {
   "cell_type": "code",
   "execution_count": null,
   "id": "elder-tiffany",
   "metadata": {
    "kernel": "Bash"
   },
   "outputs": [],
   "source": [
    "##on cluster\n",
    "\n",
    "svFolder=testSV\n",
    "cd $svFolder\n",
    "chmod u+x runScript.sh\n",
    "mydata=$(pwd)\n",
    "refs=$mydata/refs\n",
    "bams=$mydata/bams\n",
    "./runScript.sh -d $mydata -b $bams -r /home/sharrison/testSV/refs/GCF_003019965.1_ASM301996v1_genomic.fna -i 250"
   ]
  },
  {
   "cell_type": "code",
   "execution_count": null,
   "id": "matched-production",
   "metadata": {
    "kernel": "Bash"
   },
   "outputs": [],
   "source": [
    "###local\n",
    "cd $svFolder\n",
    "mkdir -p mergeSV\n",
    "mkdir -p manta\n",
    "mkdir -p pindel\n",
    "mkdir -p lumpy\n",
    "mkdir -p delly\n",
    "mkdir -p gridss\n",
    "mkdir -p breakdancer\n",
    "mkdir -p stats"
   ]
  },
  {
   "cell_type": "code",
   "execution_count": null,
   "id": "explicit-chile",
   "metadata": {
    "kernel": "Bash"
   },
   "outputs": [],
   "source": [
    "sftp sharrison@mutation.uncc.edu\n",
    "get -r manta\n",
    "get -r pindel\n",
    "get -r lumpy\n",
    "get -r delly\n",
    "get -r gridss\n",
    "get -r breakdancer\n",
    "get -r stats"
   ]
  },
  {
   "cell_type": "code",
   "execution_count": null,
   "id": "frozen-journalist",
   "metadata": {
    "kernel": "Bash"
   },
   "outputs": [],
   "source": [
    "##converting delly from bcf to vcf \n",
    "cd $projectD/$svFolder/delly\n",
    "for file in *.bcf ;\n",
    "do\n",
    "out=${file%.bcf}.vcf\n",
    "bcftools view -Ov -o $out $file\n",
    "done\n",
    "\n",
    "##annotating gridss output\n",
    "chmod u+x $projectD/$svFolder/structurial_annotation.R \n",
    "cd $projectD/$svFolder/gridss\n",
    "for file in *.vcf ;\n",
    "do\n",
    "outVcf=${file%.vcf}.ann.vcf\n",
    "outBed=${file%.vcf}.bed\n",
    "Rscript $projectD/$svFolder/structurial_annotation.R $file $outVcf $outBed\n",
    "done\n",
    "\n",
    "cd $projectD/$svFolder/lumpy\n",
    "for file in *.vcf ;\n",
    "do\n",
    "outVcf=${file%.vcf}.ann.vcf\n",
    "outBed=${file%.vcf}.bed\n",
    "Rscript $projectD/$svFolder/structurial_annotation.R $file $outVcf $outBed\n",
    "done"
   ]
  },
  {
   "cell_type": "code",
   "execution_count": 4,
   "id": "isolated-arthritis",
   "metadata": {
    "kernel": "Bash"
   },
   "outputs": [
    {
     "name": "stdout",
     "output_type": "stream",
     "text": [
      "Restarting kernel \"Bash\"\n"
     ]
    },
    {
     "name": "stderr",
     "output_type": "stream",
     "text": [
      "Keyboard Interrupt\n"
     ]
    }
   ],
   "source": [
    "python3"
   ]
  },
  {
   "cell_type": "code",
   "execution_count": 2,
   "id": "postal-spectacular",
   "metadata": {
    "kernel": "Bash"
   },
   "outputs": [
    {
     "name": "stdout",
     "output_type": "stream",
     "text": [
      "Traceback (most recent call last):\r\n",
      "  File \"/home/sarah/WGS3/testSV/reformat_merge.py\", line 1, in <module>\r\n",
      "    import pandas as pd\r\n",
      "ModuleNotFoundError: No module named 'pandas'\r\n",
      "Traceback (most recent call last):\r\n",
      "  File \"/home/sarah/WGS3/testSV/reformat_merge.py\", line 1, in <module>\r\n",
      "    import pandas as pd\r\n",
      "ModuleNotFoundError: No module named 'pandas'\r\n",
      "\n"
     ]
    }
   ],
   "source": [
    "for b in $projectD/$svFolder/stats/*.stats\n",
    "do\n",
    "tmp=${b##*/}\n",
    "sample=${tmp%.sorted.stats}\n",
    "python3 $projectD/$svFolder/reformat_merge.py $projectD/$svFolder $sample\n",
    "done"
   ]
  },
  {
   "cell_type": "code",
   "execution_count": null,
   "id": "attractive-demonstration",
   "metadata": {
    "kernel": "Bash"
   },
   "outputs": [],
   "source": [
    "numSamples=2\n",
    "python3 $projectD/$svFolder/overlapSamples.py $projectD/$svFolder/mergeSV $numSamples"
   ]
  },
  {
   "cell_type": "code",
   "execution_count": null,
   "id": "welsh-walnut",
   "metadata": {
    "kernel": "Bash"
   },
   "outputs": [],
   "source": [
    "cd $svFolder\n",
    "mkdir -p svImages \n",
    "bedtools igv -slop 10 -path svImages -i $projectD/$svFolder/mergeSV/noShareSV.bed > $projectD/$svFolder/svImages/picScript.sh"
   ]
  },
  {
   "cell_type": "code",
   "execution_count": null,
   "id": "professional-massachusetts",
   "metadata": {
    "kernel": "Bash"
   },
   "outputs": [],
   "source": [
    "### TODO generate images into IGV make session files "
   ]
  },
  {
   "cell_type": "code",
   "execution_count": null,
   "id": "entertaining-detection",
   "metadata": {
    "kernel": "Bash"
   },
   "outputs": [],
   "source": [
    "cd /path/to/data/mergeSV/finalSV\n",
    "for photo in *.png ; do convert $photo -rotate -90 $photo ; done"
   ]
  },
  {
   "cell_type": "code",
   "execution_count": null,
   "id": "current-johnston",
   "metadata": {
    "kernel": "Bash"
   },
   "outputs": [],
   "source": []
  },
  {
   "cell_type": "code",
   "execution_count": null,
   "id": "broken-cedar",
   "metadata": {
    "kernel": "Bash"
   },
   "outputs": [],
   "source": []
  },
  {
   "cell_type": "markdown",
   "id": "automated-thumbnail",
   "metadata": {
    "kernel": "Bash"
   },
   "source": [
    "SNP/INDEL calling "
   ]
  },
  {
   "cell_type": "code",
   "execution_count": null,
   "id": "cardiovascular-desperate",
   "metadata": {
    "kernel": "Bash"
   },
   "outputs": [],
   "source": [
    "#John Stuff"
   ]
  },
  {
   "cell_type": "markdown",
   "id": "visible-remains",
   "metadata": {
    "kernel": "Bash"
   },
   "source": [
    "Phylogeny"
   ]
  },
  {
   "cell_type": "code",
   "execution_count": null,
   "id": "parental-squad",
   "metadata": {
    "kernel": "Bash"
   },
   "outputs": [],
   "source": []
  },
  {
   "cell_type": "code",
   "execution_count": null,
   "id": "coral-junction",
   "metadata": {
    "kernel": "Bash"
   },
   "outputs": [],
   "source": []
  }
 ],
 "metadata": {
  "kernelspec": {
   "display_name": "SoS",
   "language": "sos",
   "name": "sos"
  },
  "language_info": {
   "codemirror_mode": "sos",
   "file_extension": ".sos",
   "mimetype": "text/x-sos",
   "name": "sos",
   "nbconvert_exporter": "sos_notebook.converter.SoS_Exporter",
   "pygments_lexer": "sos"
  },
  "sos": {
   "kernels": [
    [
     "Bash",
     "calysto_bash",
     "Bash",
     "#E6EEFF",
     ""
    ],
    [
     "python3",
     "python3",
     "python",
     "",
     ""
    ]
   ],
   "panel": {
    "displayed": true,
    "height": 0
   },
   "version": "0.20.1"
  }
 },
 "nbformat": 4,
 "nbformat_minor": 5
}
